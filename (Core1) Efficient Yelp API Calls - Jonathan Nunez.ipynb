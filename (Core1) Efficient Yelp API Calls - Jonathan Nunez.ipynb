{
 "cells": [
  {
   "cell_type": "markdown",
   "id": "eabd5968",
   "metadata": {},
   "source": [
    "# Assignment\n",
    "\n",
    "For this assignment, you will be working with the Yelp API.\n",
    "\n",
    "As before, you will use the Yelp API to search your favorite city for a cuisine type of your choice.\n",
    "\n",
    "Extract all of the results from your search and compile them into one dataframe using a for loop as shown in the lesson \"Code for Efficient API Extraction\"\n",
    "\n",
    "Save your notebook, commit the change to your repository and submit the repository URL for this assignment."
   ]
  },
  {
   "cell_type": "markdown",
   "id": "cf258389",
   "metadata": {},
   "source": [
    "# Import Libraries"
   ]
  },
  {
   "cell_type": "code",
   "execution_count": 8,
   "id": "d4ddbe2c",
   "metadata": {},
   "outputs": [],
   "source": [
    "import numpy as np\n",
    "import pandas as pd\n",
    "import matplotlib.pyplot as plt\n",
    "import seaborn as sns\n",
    "# Additional Imports\n",
    "import os, json, math, time\n",
    "from yelpapi import YelpAPI\n",
    "from tqdm.notebook import tqdm_notebook"
   ]
  },
  {
   "cell_type": "code",
   "execution_count": 3,
   "id": "e251a8cb",
   "metadata": {},
   "outputs": [],
   "source": [
    "with open('/Users/jonnu/.secret/yelp_api.json') as f:\n",
    "    login = json.load(f)\n",
    "# Instantiate YelpAPI Variable\n",
    "yelp_api = YelpAPI(login['api-key'], timeout_s=5.0)"
   ]
  },
  {
   "cell_type": "code",
   "execution_count": 4,
   "id": "2dccbadb",
   "metadata": {},
   "outputs": [],
   "source": [
    "LOCATION = 'San Antonio, TX'\n",
    "TERM = 'Tacos'"
   ]
  },
  {
   "cell_type": "markdown",
   "id": "d50ea493",
   "metadata": {},
   "source": [
    "# Create Results-in-Progress .json File"
   ]
  },
  {
   "cell_type": "code",
   "execution_count": 5,
   "id": "6d4ecef9",
   "metadata": {},
   "outputs": [
    {
     "data": {
      "text/plain": [
       "'Data/results_in_progress_satx_tacos.json'"
      ]
     },
     "execution_count": 5,
     "metadata": {},
     "output_type": "execute_result"
    }
   ],
   "source": [
    "json_file = \"Data/results_in_progress_satx_tacos.json\"\n",
    "json_file"
   ]
  },
  {
   "cell_type": "code",
   "execution_count": 6,
   "id": "bf57da49",
   "metadata": {},
   "outputs": [],
   "source": [
    "# Code copied from Coding Dojo Learning Platform\n",
    "# If error occurs and need to restart results .json file\n",
    "\n",
    "def create_json_file(JSON_FILE,  delete_if_exists=False):\n",
    "\n",
    "    ## Check if JSON_FILE exists\n",
    "    file_exists = os.path.isfile(JSON_FILE)\n",
    "\n",
    "    ## If it DOES exist:\n",
    "    if file_exists == True:\n",
    "\n",
    "        ## Check if user wants to delete if exists\n",
    "        if delete_if_exists==True:\n",
    "\n",
    "            print(f\"[!] {JSON_FILE} already exists. Deleting previous file...\")\n",
    "            ## delete file and confirm it no longer exits.\n",
    "            os.remove(JSON_FILE)\n",
    "            ## Recursive call to function after old file deleted\n",
    "            create_json_file(JSON_FILE,delete_if_exists=False)\n",
    "        else:\n",
    "            print(f\"[i] {JSON_FILE} already exists.\")            \n",
    "\n",
    "\n",
    "    ## If it does NOT exist:\n",
    "    else:\n",
    "\n",
    "        ## INFORM USER AND SAVE EMPTY LIST\n",
    "        print(f\"[i] {JSON_FILE} not found. Saving empty list to new file.\")\n",
    "\n",
    "        ## CREATE ANY NEEDED FOLDERS\n",
    "        # Get the Folder Name only\n",
    "        folder = os.path.dirname(JSON_FILE)\n",
    "\n",
    "        ## If JSON_FILE included a folder:\n",
    "        if len(folder)>0:\n",
    "            # create the folder\n",
    "            os.makedirs(folder,exist_ok=True)\n",
    "        ## Save empty list to start the json file\n",
    "        with open(JSON_FILE,'w') as f:\n",
    "            json.dump([],f)  "
   ]
  },
  {
   "cell_type": "code",
   "execution_count": 7,
   "id": "5031e03f",
   "metadata": {},
   "outputs": [
    {
     "name": "stdout",
     "output_type": "stream",
     "text": [
      "[i] Data/results_in_progress_satx_tacos.json not found. Saving empty list to new file.\n"
     ]
    }
   ],
   "source": [
    "create_json_file(json_file,  delete_if_exists=True)"
   ]
  },
  {
   "cell_type": "markdown",
   "id": "3bb35616",
   "metadata": {},
   "source": [
    "# Create Variables for Results and Pages"
   ]
  },
  {
   "cell_type": "code",
   "execution_count": 10,
   "id": "af536ef8",
   "metadata": {},
   "outputs": [
    {
     "name": "stdout",
     "output_type": "stream",
     "text": [
      "- 0 previous results found.\n"
     ]
    },
    {
     "data": {
      "text/plain": [
       "155"
      ]
     },
     "execution_count": 10,
     "metadata": {},
     "output_type": "execute_result"
    }
   ],
   "source": [
    "with open(json_file,'r') as f:\n",
    "    previous_results = json.load(f)\n",
    "    \n",
    "## set offset based on previous results\n",
    "n_results = len(previous_results)\n",
    "print(f'- {n_results} previous results found.')\n",
    "# use our yelp_api variable's search_query method to perform our API call\n",
    "results = yelp_api.search_query(location=LOCATION,\n",
    "                                term=TERM,\n",
    "                               offset=n_results)\n",
    "## How many results total?\n",
    "total_results = results['total']\n",
    "## How many did we get the details for?\n",
    "results_per_page = len(results['businesses'])\n",
    "# Use math.ceil to round up for the total number of pages of results.\n",
    "n_pages = math.ceil((results['total']-n_results)/ results_per_page)\n",
    "n_pages"
   ]
  },
  {
   "cell_type": "markdown",
   "id": "2b450c01",
   "metadata": {},
   "source": [
    "#  Run For Loop to Retrieve and Save Results\n",
    "- Account for Yelp Result limit of 1000"
   ]
  },
  {
   "cell_type": "code",
   "execution_count": 12,
   "id": "a363eb5a",
   "metadata": {},
   "outputs": [
    {
     "data": {
      "application/vnd.jupyter.widget-view+json": {
       "model_id": "51a9f4a701d840a5accd07f3ef151ea6",
       "version_major": 2,
       "version_minor": 0
      },
      "text/plain": [
       "  0%|          | 0/155 [00:00<?, ?it/s]"
      ]
     },
     "metadata": {},
     "output_type": "display_data"
    },
    {
     "name": "stdout",
     "output_type": "stream",
     "text": [
      "Exceeded 1000 api calls. Stopping loop.\n"
     ]
    }
   ],
   "source": [
    "for i in tqdm_notebook( range(1,n_pages+1)):\n",
    "    \n",
    "    ## Read in results in progress file and check the length\n",
    "    with open(json_file, 'r') as f:\n",
    "        previous_results = json.load(f)\n",
    "    ## save number of results for to use as offset\n",
    "    n_results = len(previous_results)\n",
    "    \n",
    "    if (n_results + results_per_page) > 1000:\n",
    "        print('Exceeded 1000 api calls. Stopping loop.')\n",
    "        break\n",
    "    \n",
    "    ## use n_results as the OFFSET \n",
    "    results = yelp_api.search_query(location=LOCATION,\n",
    "                                    term=TERM, \n",
    "                                    offset=n_results)\n",
    "    \n",
    "    \n",
    "    \n",
    "    ## append new results and save to file\n",
    "    previous_results.extend(results['businesses'])\n",
    "    \n",
    "    # display(previous_results)\n",
    "    with open(json_file,'w') as f:\n",
    "        json.dump(previous_results,f)\n",
    "    \n",
    "    time.sleep(.2)"
   ]
  },
  {
   "cell_type": "markdown",
   "id": "2006054c",
   "metadata": {},
   "source": [
    "# Final Results as DataFrame"
   ]
  },
  {
   "cell_type": "code",
   "execution_count": 13,
   "id": "d916b109",
   "metadata": {},
   "outputs": [
    {
     "data": {
      "text/html": [
       "<div>\n",
       "<style scoped>\n",
       "    .dataframe tbody tr th:only-of-type {\n",
       "        vertical-align: middle;\n",
       "    }\n",
       "\n",
       "    .dataframe tbody tr th {\n",
       "        vertical-align: top;\n",
       "    }\n",
       "\n",
       "    .dataframe thead th {\n",
       "        text-align: right;\n",
       "    }\n",
       "</style>\n",
       "<table border=\"1\" class=\"dataframe\">\n",
       "  <thead>\n",
       "    <tr style=\"text-align: right;\">\n",
       "      <th></th>\n",
       "      <th>id</th>\n",
       "      <th>alias</th>\n",
       "      <th>name</th>\n",
       "      <th>image_url</th>\n",
       "      <th>is_closed</th>\n",
       "      <th>url</th>\n",
       "      <th>review_count</th>\n",
       "      <th>categories</th>\n",
       "      <th>rating</th>\n",
       "      <th>coordinates</th>\n",
       "      <th>transactions</th>\n",
       "      <th>price</th>\n",
       "      <th>location</th>\n",
       "      <th>phone</th>\n",
       "      <th>display_phone</th>\n",
       "      <th>distance</th>\n",
       "    </tr>\n",
       "  </thead>\n",
       "  <tbody>\n",
       "    <tr>\n",
       "      <th>0</th>\n",
       "      <td>zulD0Ns_524wMuCAFlXxRA</td>\n",
       "      <td>tlahco-mexican-kitchen-san-antonio</td>\n",
       "      <td>Tlahco Mexican kitchen</td>\n",
       "      <td>https://s3-media4.fl.yelpcdn.com/bphoto/PAEto8...</td>\n",
       "      <td>False</td>\n",
       "      <td>https://www.yelp.com/biz/tlahco-mexican-kitche...</td>\n",
       "      <td>755</td>\n",
       "      <td>[{'alias': 'mexican', 'title': 'Mexican'}]</td>\n",
       "      <td>4.5</td>\n",
       "      <td>{'latitude': 29.5006724654481, 'longitude': -9...</td>\n",
       "      <td>[delivery, pickup]</td>\n",
       "      <td>$$</td>\n",
       "      <td>{'address1': '6702 San Pedro Ave', 'address2':...</td>\n",
       "      <td>+12104550135</td>\n",
       "      <td>(210) 455-0135</td>\n",
       "      <td>2931.033269</td>\n",
       "    </tr>\n",
       "    <tr>\n",
       "      <th>1</th>\n",
       "      <td>fD626-6wEZgfGP2YT3wSIA</td>\n",
       "      <td>taquitos-west-ave-san-antonio</td>\n",
       "      <td>Taquitos West Ave</td>\n",
       "      <td>https://s3-media2.fl.yelpcdn.com/bphoto/yWNgVE...</td>\n",
       "      <td>False</td>\n",
       "      <td>https://www.yelp.com/biz/taquitos-west-ave-san...</td>\n",
       "      <td>755</td>\n",
       "      <td>[{'alias': 'mexican', 'title': 'Mexican'}]</td>\n",
       "      <td>4.5</td>\n",
       "      <td>{'latitude': 29.48637, 'longitude': -98.52573}</td>\n",
       "      <td>[delivery]</td>\n",
       "      <td>$</td>\n",
       "      <td>{'address1': '2818 West Ave', 'address2': None...</td>\n",
       "      <td>+12105259888</td>\n",
       "      <td>(210) 525-9888</td>\n",
       "      <td>1118.116301</td>\n",
       "    </tr>\n",
       "    <tr>\n",
       "      <th>2</th>\n",
       "      <td>j2Ym1bd-tRyM-G5qXZ1yCw</td>\n",
       "      <td>petes-tako-house-san-antonio</td>\n",
       "      <td>Pete's Tako House</td>\n",
       "      <td>https://s3-media1.fl.yelpcdn.com/bphoto/EzV5R6...</td>\n",
       "      <td>False</td>\n",
       "      <td>https://www.yelp.com/biz/petes-tako-house-san-...</td>\n",
       "      <td>1297</td>\n",
       "      <td>[{'alias': 'breakfast_brunch', 'title': 'Break...</td>\n",
       "      <td>4.5</td>\n",
       "      <td>{'latitude': 29.4328575134277, 'longitude': -9...</td>\n",
       "      <td>[delivery, pickup]</td>\n",
       "      <td>$</td>\n",
       "      <td>{'address1': '502 Brooklyn Ave', 'address2': '...</td>\n",
       "      <td>+12102242911</td>\n",
       "      <td>(210) 224-2911</td>\n",
       "      <td>6094.469626</td>\n",
       "    </tr>\n",
       "    <tr>\n",
       "      <th>3</th>\n",
       "      <td>Omclc_9AiOvb2gCEQSHLjg</td>\n",
       "      <td>tacos-vitali-san-antonio-2</td>\n",
       "      <td>Tacos Vitali</td>\n",
       "      <td>https://s3-media1.fl.yelpcdn.com/bphoto/PJq-W1...</td>\n",
       "      <td>False</td>\n",
       "      <td>https://www.yelp.com/biz/tacos-vitali-san-anto...</td>\n",
       "      <td>56</td>\n",
       "      <td>[{'alias': 'mexican', 'title': 'Mexican'}]</td>\n",
       "      <td>4.0</td>\n",
       "      <td>{'latitude': 29.54676444696915, 'longitude': -...</td>\n",
       "      <td>[]</td>\n",
       "      <td>$$</td>\n",
       "      <td>{'address1': '6433 Babcock Rd', 'address2': ''...</td>\n",
       "      <td></td>\n",
       "      <td></td>\n",
       "      <td>12020.951105</td>\n",
       "    </tr>\n",
       "    <tr>\n",
       "      <th>4</th>\n",
       "      <td>jJQBNqgL4pz4xg4KqZd37w</td>\n",
       "      <td>taqueria-el-trompo-san-antonio</td>\n",
       "      <td>Taqueria El Trompo</td>\n",
       "      <td>https://s3-media3.fl.yelpcdn.com/bphoto/Mehe4p...</td>\n",
       "      <td>False</td>\n",
       "      <td>https://www.yelp.com/biz/taqueria-el-trompo-sa...</td>\n",
       "      <td>230</td>\n",
       "      <td>[{'alias': 'mexican', 'title': 'Mexican'}]</td>\n",
       "      <td>4.5</td>\n",
       "      <td>{'latitude': 29.5096948824644, 'longitude': -9...</td>\n",
       "      <td>[]</td>\n",
       "      <td>$$</td>\n",
       "      <td>{'address1': '7863 Callaghan Rd', 'address2': ...</td>\n",
       "      <td>+12106268032</td>\n",
       "      <td>(210) 626-8032</td>\n",
       "      <td>4956.083578</td>\n",
       "    </tr>\n",
       "  </tbody>\n",
       "</table>\n",
       "</div>"
      ],
      "text/plain": [
       "                       id                               alias  \\\n",
       "0  zulD0Ns_524wMuCAFlXxRA  tlahco-mexican-kitchen-san-antonio   \n",
       "1  fD626-6wEZgfGP2YT3wSIA       taquitos-west-ave-san-antonio   \n",
       "2  j2Ym1bd-tRyM-G5qXZ1yCw        petes-tako-house-san-antonio   \n",
       "3  Omclc_9AiOvb2gCEQSHLjg          tacos-vitali-san-antonio-2   \n",
       "4  jJQBNqgL4pz4xg4KqZd37w      taqueria-el-trompo-san-antonio   \n",
       "\n",
       "                     name                                          image_url  \\\n",
       "0  Tlahco Mexican kitchen  https://s3-media4.fl.yelpcdn.com/bphoto/PAEto8...   \n",
       "1       Taquitos West Ave  https://s3-media2.fl.yelpcdn.com/bphoto/yWNgVE...   \n",
       "2       Pete's Tako House  https://s3-media1.fl.yelpcdn.com/bphoto/EzV5R6...   \n",
       "3            Tacos Vitali  https://s3-media1.fl.yelpcdn.com/bphoto/PJq-W1...   \n",
       "4      Taqueria El Trompo  https://s3-media3.fl.yelpcdn.com/bphoto/Mehe4p...   \n",
       "\n",
       "   is_closed                                                url  review_count  \\\n",
       "0      False  https://www.yelp.com/biz/tlahco-mexican-kitche...           755   \n",
       "1      False  https://www.yelp.com/biz/taquitos-west-ave-san...           755   \n",
       "2      False  https://www.yelp.com/biz/petes-tako-house-san-...          1297   \n",
       "3      False  https://www.yelp.com/biz/tacos-vitali-san-anto...            56   \n",
       "4      False  https://www.yelp.com/biz/taqueria-el-trompo-sa...           230   \n",
       "\n",
       "                                          categories  rating  \\\n",
       "0         [{'alias': 'mexican', 'title': 'Mexican'}]     4.5   \n",
       "1         [{'alias': 'mexican', 'title': 'Mexican'}]     4.5   \n",
       "2  [{'alias': 'breakfast_brunch', 'title': 'Break...     4.5   \n",
       "3         [{'alias': 'mexican', 'title': 'Mexican'}]     4.0   \n",
       "4         [{'alias': 'mexican', 'title': 'Mexican'}]     4.5   \n",
       "\n",
       "                                         coordinates        transactions  \\\n",
       "0  {'latitude': 29.5006724654481, 'longitude': -9...  [delivery, pickup]   \n",
       "1     {'latitude': 29.48637, 'longitude': -98.52573}          [delivery]   \n",
       "2  {'latitude': 29.4328575134277, 'longitude': -9...  [delivery, pickup]   \n",
       "3  {'latitude': 29.54676444696915, 'longitude': -...                  []   \n",
       "4  {'latitude': 29.5096948824644, 'longitude': -9...                  []   \n",
       "\n",
       "  price                                           location         phone  \\\n",
       "0    $$  {'address1': '6702 San Pedro Ave', 'address2':...  +12104550135   \n",
       "1     $  {'address1': '2818 West Ave', 'address2': None...  +12105259888   \n",
       "2     $  {'address1': '502 Brooklyn Ave', 'address2': '...  +12102242911   \n",
       "3    $$  {'address1': '6433 Babcock Rd', 'address2': ''...                 \n",
       "4    $$  {'address1': '7863 Callaghan Rd', 'address2': ...  +12106268032   \n",
       "\n",
       "    display_phone      distance  \n",
       "0  (210) 455-0135   2931.033269  \n",
       "1  (210) 525-9888   1118.116301  \n",
       "2  (210) 224-2911   6094.469626  \n",
       "3                  12020.951105  \n",
       "4  (210) 626-8032   4956.083578  "
      ]
     },
     "metadata": {},
     "output_type": "display_data"
    },
    {
     "data": {
      "text/html": [
       "<div>\n",
       "<style scoped>\n",
       "    .dataframe tbody tr th:only-of-type {\n",
       "        vertical-align: middle;\n",
       "    }\n",
       "\n",
       "    .dataframe tbody tr th {\n",
       "        vertical-align: top;\n",
       "    }\n",
       "\n",
       "    .dataframe thead th {\n",
       "        text-align: right;\n",
       "    }\n",
       "</style>\n",
       "<table border=\"1\" class=\"dataframe\">\n",
       "  <thead>\n",
       "    <tr style=\"text-align: right;\">\n",
       "      <th></th>\n",
       "      <th>id</th>\n",
       "      <th>alias</th>\n",
       "      <th>name</th>\n",
       "      <th>image_url</th>\n",
       "      <th>is_closed</th>\n",
       "      <th>url</th>\n",
       "      <th>review_count</th>\n",
       "      <th>categories</th>\n",
       "      <th>rating</th>\n",
       "      <th>coordinates</th>\n",
       "      <th>transactions</th>\n",
       "      <th>price</th>\n",
       "      <th>location</th>\n",
       "      <th>phone</th>\n",
       "      <th>display_phone</th>\n",
       "      <th>distance</th>\n",
       "    </tr>\n",
       "  </thead>\n",
       "  <tbody>\n",
       "    <tr>\n",
       "      <th>995</th>\n",
       "      <td>C-LHPeo9N6hLY4yBQ4-nUg</td>\n",
       "      <td>chabela-san-antonio</td>\n",
       "      <td>Chabela</td>\n",
       "      <td>https://s3-media4.fl.yelpcdn.com/bphoto/_W_Skb...</td>\n",
       "      <td>False</td>\n",
       "      <td>https://www.yelp.com/biz/chabela-san-antonio?a...</td>\n",
       "      <td>2</td>\n",
       "      <td>[{'alias': 'mexican', 'title': 'Mexican'}]</td>\n",
       "      <td>3.0</td>\n",
       "      <td>{'latitude': 29.488223, 'longitude': -98.576172}</td>\n",
       "      <td>[delivery, pickup]</td>\n",
       "      <td>NaN</td>\n",
       "      <td>{'address1': '6031 Callaghan Rd', 'address2': ...</td>\n",
       "      <td>+12103682226</td>\n",
       "      <td>(210) 368-2226</td>\n",
       "      <td>5794.377903</td>\n",
       "    </tr>\n",
       "    <tr>\n",
       "      <th>996</th>\n",
       "      <td>Ij9TVorQnOuLwn5ZJo7cCg</td>\n",
       "      <td>taco-palenque-new-braunfels-new-braunfels</td>\n",
       "      <td>Taco Palenque - New Braunfels</td>\n",
       "      <td>https://s3-media2.fl.yelpcdn.com/bphoto/E5lklB...</td>\n",
       "      <td>False</td>\n",
       "      <td>https://www.yelp.com/biz/taco-palenque-new-bra...</td>\n",
       "      <td>129</td>\n",
       "      <td>[{'alias': 'mexican', 'title': 'Mexican'}]</td>\n",
       "      <td>4.0</td>\n",
       "      <td>{'latitude': 29.70091, 'longitude': -98.09207}</td>\n",
       "      <td>[delivery]</td>\n",
       "      <td>$</td>\n",
       "      <td>{'address1': '1270 Ih 35 S', 'address2': '', '...</td>\n",
       "      <td>+18302140561</td>\n",
       "      <td>(830) 214-0561</td>\n",
       "      <td>47904.773354</td>\n",
       "    </tr>\n",
       "    <tr>\n",
       "      <th>997</th>\n",
       "      <td>QJLHaDnZoeHO1-q0jy7cfg</td>\n",
       "      <td>teka-molino-mobile-san-antonio</td>\n",
       "      <td>Teka Molino Mobile</td>\n",
       "      <td>https://s3-media3.fl.yelpcdn.com/bphoto/AoC-Fl...</td>\n",
       "      <td>False</td>\n",
       "      <td>https://www.yelp.com/biz/teka-molino-mobile-sa...</td>\n",
       "      <td>9</td>\n",
       "      <td>[{'alias': 'foodtrucks', 'title': 'Food Trucks'}]</td>\n",
       "      <td>4.0</td>\n",
       "      <td>{'latitude': 29.4265551, 'longitude': -98.4937...</td>\n",
       "      <td>[]</td>\n",
       "      <td>$$</td>\n",
       "      <td>{'address1': '211 N Main', 'address2': '', 'ad...</td>\n",
       "      <td></td>\n",
       "      <td></td>\n",
       "      <td>6319.650794</td>\n",
       "    </tr>\n",
       "    <tr>\n",
       "      <th>998</th>\n",
       "      <td>ghtR1FxRDdbcxJhTmFMh4g</td>\n",
       "      <td>sandia-mexican-restaurant-san-antonio</td>\n",
       "      <td>Sandia Mexican Restaurant</td>\n",
       "      <td>https://s3-media2.fl.yelpcdn.com/bphoto/ETLvsA...</td>\n",
       "      <td>False</td>\n",
       "      <td>https://www.yelp.com/biz/sandia-mexican-restau...</td>\n",
       "      <td>77</td>\n",
       "      <td>[{'alias': 'mexican', 'title': 'Mexican'}]</td>\n",
       "      <td>3.5</td>\n",
       "      <td>{'latitude': 29.4345272, 'longitude': -98.5996...</td>\n",
       "      <td>[delivery]</td>\n",
       "      <td>$</td>\n",
       "      <td>{'address1': '106 S Callaghan Rd', 'address2':...</td>\n",
       "      <td>+12104323400</td>\n",
       "      <td>(210) 432-3400</td>\n",
       "      <td>9432.725272</td>\n",
       "    </tr>\n",
       "    <tr>\n",
       "      <th>999</th>\n",
       "      <td>bC2wMY9dYAFEqO5i1_4XYA</td>\n",
       "      <td>lolas-mexican-food-seguin-2</td>\n",
       "      <td>Lola's Mexican Food</td>\n",
       "      <td>https://s3-media4.fl.yelpcdn.com/bphoto/qBHluc...</td>\n",
       "      <td>False</td>\n",
       "      <td>https://www.yelp.com/biz/lolas-mexican-food-se...</td>\n",
       "      <td>42</td>\n",
       "      <td>[{'alias': 'mexican', 'title': 'Mexican'}]</td>\n",
       "      <td>5.0</td>\n",
       "      <td>{'latitude': 29.6050350662487, 'longitude': -9...</td>\n",
       "      <td>[]</td>\n",
       "      <td>$</td>\n",
       "      <td>{'address1': '3470 E US Hwy 90', 'address2': '...</td>\n",
       "      <td>+18303798812</td>\n",
       "      <td>(830) 379-8812</td>\n",
       "      <td>59981.413229</td>\n",
       "    </tr>\n",
       "  </tbody>\n",
       "</table>\n",
       "</div>"
      ],
      "text/plain": [
       "                         id                                      alias  \\\n",
       "995  C-LHPeo9N6hLY4yBQ4-nUg                        chabela-san-antonio   \n",
       "996  Ij9TVorQnOuLwn5ZJo7cCg  taco-palenque-new-braunfels-new-braunfels   \n",
       "997  QJLHaDnZoeHO1-q0jy7cfg             teka-molino-mobile-san-antonio   \n",
       "998  ghtR1FxRDdbcxJhTmFMh4g      sandia-mexican-restaurant-san-antonio   \n",
       "999  bC2wMY9dYAFEqO5i1_4XYA                lolas-mexican-food-seguin-2   \n",
       "\n",
       "                              name  \\\n",
       "995                        Chabela   \n",
       "996  Taco Palenque - New Braunfels   \n",
       "997             Teka Molino Mobile   \n",
       "998      Sandia Mexican Restaurant   \n",
       "999            Lola's Mexican Food   \n",
       "\n",
       "                                             image_url  is_closed  \\\n",
       "995  https://s3-media4.fl.yelpcdn.com/bphoto/_W_Skb...      False   \n",
       "996  https://s3-media2.fl.yelpcdn.com/bphoto/E5lklB...      False   \n",
       "997  https://s3-media3.fl.yelpcdn.com/bphoto/AoC-Fl...      False   \n",
       "998  https://s3-media2.fl.yelpcdn.com/bphoto/ETLvsA...      False   \n",
       "999  https://s3-media4.fl.yelpcdn.com/bphoto/qBHluc...      False   \n",
       "\n",
       "                                                   url  review_count  \\\n",
       "995  https://www.yelp.com/biz/chabela-san-antonio?a...             2   \n",
       "996  https://www.yelp.com/biz/taco-palenque-new-bra...           129   \n",
       "997  https://www.yelp.com/biz/teka-molino-mobile-sa...             9   \n",
       "998  https://www.yelp.com/biz/sandia-mexican-restau...            77   \n",
       "999  https://www.yelp.com/biz/lolas-mexican-food-se...            42   \n",
       "\n",
       "                                            categories  rating  \\\n",
       "995         [{'alias': 'mexican', 'title': 'Mexican'}]     3.0   \n",
       "996         [{'alias': 'mexican', 'title': 'Mexican'}]     4.0   \n",
       "997  [{'alias': 'foodtrucks', 'title': 'Food Trucks'}]     4.0   \n",
       "998         [{'alias': 'mexican', 'title': 'Mexican'}]     3.5   \n",
       "999         [{'alias': 'mexican', 'title': 'Mexican'}]     5.0   \n",
       "\n",
       "                                           coordinates        transactions  \\\n",
       "995   {'latitude': 29.488223, 'longitude': -98.576172}  [delivery, pickup]   \n",
       "996     {'latitude': 29.70091, 'longitude': -98.09207}          [delivery]   \n",
       "997  {'latitude': 29.4265551, 'longitude': -98.4937...                  []   \n",
       "998  {'latitude': 29.4345272, 'longitude': -98.5996...          [delivery]   \n",
       "999  {'latitude': 29.6050350662487, 'longitude': -9...                  []   \n",
       "\n",
       "    price                                           location         phone  \\\n",
       "995   NaN  {'address1': '6031 Callaghan Rd', 'address2': ...  +12103682226   \n",
       "996     $  {'address1': '1270 Ih 35 S', 'address2': '', '...  +18302140561   \n",
       "997    $$  {'address1': '211 N Main', 'address2': '', 'ad...                 \n",
       "998     $  {'address1': '106 S Callaghan Rd', 'address2':...  +12104323400   \n",
       "999     $  {'address1': '3470 E US Hwy 90', 'address2': '...  +18303798812   \n",
       "\n",
       "      display_phone      distance  \n",
       "995  (210) 368-2226   5794.377903  \n",
       "996  (830) 214-0561  47904.773354  \n",
       "997                   6319.650794  \n",
       "998  (210) 432-3400   9432.725272  \n",
       "999  (830) 379-8812  59981.413229  "
      ]
     },
     "metadata": {},
     "output_type": "display_data"
    }
   ],
   "source": [
    "final_df = pd.read_json(json_file)\n",
    "display(final_df.head(), final_df.tail())"
   ]
  },
  {
   "cell_type": "markdown",
   "id": "55a51223",
   "metadata": {},
   "source": [
    "## Check for Duplicates\n",
    "- Need to use subset='id' since some Yelp dataframe columns contain lists"
   ]
  },
  {
   "cell_type": "code",
   "execution_count": 14,
   "id": "2275b639",
   "metadata": {},
   "outputs": [
    {
     "data": {
      "text/plain": [
       "3"
      ]
     },
     "execution_count": 14,
     "metadata": {},
     "output_type": "execute_result"
    }
   ],
   "source": [
    "final_df.duplicated(subset='id').sum()"
   ]
  },
  {
   "cell_type": "code",
   "execution_count": 15,
   "id": "b08f534b",
   "metadata": {},
   "outputs": [
    {
     "data": {
      "text/plain": [
       "0"
      ]
     },
     "execution_count": 15,
     "metadata": {},
     "output_type": "execute_result"
    }
   ],
   "source": [
    "final_df = final_df.drop_duplicates(subset='id')\n",
    "final_df.duplicated(subset='id').sum()"
   ]
  },
  {
   "cell_type": "markdown",
   "id": "c109a82e",
   "metadata": {},
   "source": [
    "# Save as .csv.gz File\n",
    "- Compressed to account for data upload limits"
   ]
  },
  {
   "cell_type": "code",
   "execution_count": 16,
   "id": "e8c8c419",
   "metadata": {},
   "outputs": [],
   "source": [
    "final_df.to_csv('Data/final_results_SATX_tacos.csv.gz', compression='gzip',index=False)"
   ]
  },
  {
   "cell_type": "code",
   "execution_count": null,
   "id": "b1c02477",
   "metadata": {},
   "outputs": [],
   "source": [
    "pd.read_csv('Data/final_results_SATX_tacos.csv.gz', )"
   ]
  }
 ],
 "metadata": {
  "kernelspec": {
   "display_name": "Python (dojo-env)",
   "language": "python",
   "name": "dojo-env"
  },
  "language_info": {
   "codemirror_mode": {
    "name": "ipython",
    "version": 3
   },
   "file_extension": ".py",
   "mimetype": "text/x-python",
   "name": "python",
   "nbconvert_exporter": "python",
   "pygments_lexer": "ipython3",
   "version": "3.9.15"
  },
  "toc": {
   "base_numbering": 1,
   "nav_menu": {},
   "number_sections": false,
   "sideBar": true,
   "skip_h1_title": false,
   "title_cell": "Table of Contents",
   "title_sidebar": "Contents",
   "toc_cell": false,
   "toc_position": {
    "height": "calc(100% - 180px)",
    "left": "10px",
    "top": "150px",
    "width": "225.917px"
   },
   "toc_section_display": true,
   "toc_window_display": true
  },
  "varInspector": {
   "cols": {
    "lenName": 16,
    "lenType": 16,
    "lenVar": 40
   },
   "kernels_config": {
    "python": {
     "delete_cmd_postfix": "",
     "delete_cmd_prefix": "del ",
     "library": "var_list.py",
     "varRefreshCmd": "print(var_dic_list())"
    },
    "r": {
     "delete_cmd_postfix": ") ",
     "delete_cmd_prefix": "rm(",
     "library": "var_list.r",
     "varRefreshCmd": "cat(var_dic_list()) "
    }
   },
   "types_to_exclude": [
    "module",
    "function",
    "builtin_function_or_method",
    "instance",
    "_Feature"
   ],
   "window_display": false
  }
 },
 "nbformat": 4,
 "nbformat_minor": 5
}
